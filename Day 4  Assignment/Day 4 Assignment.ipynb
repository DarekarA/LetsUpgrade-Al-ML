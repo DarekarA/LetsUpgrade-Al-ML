{
 "cells": [
  {
   "cell_type": "code",
   "execution_count": 1,
   "metadata": {},
   "outputs": [],
   "source": [
    "a = complex(1,4)\n",
    "b= complex(2,5)"
   ]
  },
  {
   "cell_type": "code",
   "execution_count": 2,
   "metadata": {},
   "outputs": [
    {
     "name": "stdout",
     "output_type": "stream",
     "text": [
      "addition: (3+9j)\n",
      "substraction: (-1-1j)\n",
      "multiplication: (-18+13j)\n",
      "division: (0.7586206896551725+0.10344827586206898j)\n"
     ]
    }
   ],
   "source": [
    "print(\"addition:\",a+b)\n",
    "print(\"substraction:\" ,a-b)\n",
    "print(\"multiplication:\" ,a*b)\n",
    "print(\"division:\" ,a/b)"
   ]
  },
  {
   "cell_type": "markdown",
   "metadata": {},
   "source": [
    "- floor __division__ and __modulo__ operations  not possible on complex numbers"
   ]
  },
  {
   "cell_type": "markdown",
   "metadata": {},
   "source": [
    "## range() ##"
   ]
  },
  {
   "cell_type": "markdown",
   "metadata": {},
   "source": [
    "__range()__ function returns a sequence of numbers starting from 0 or any number we want to  specify the sequence to start from.\n",
    "It can also start from negative numbers ,only intergers no decimal number.\n",
    "Parameters of range are : \n",
    "\n",
    "range( _start_ , _stop_ , _increment_ )\n",
    "\n",
    "__start__ : it is a optional parameter , by default is starts with 0 but can also start from any other number<br>\n",
    "__stop__  : it is a compulsory parameter , it specifies where to stop. The number is excluded.\n",
    "<br>__increment__ :it is a optional parameter ,it determines the incrementation and default is 1.\n",
    "\n"
   ]
  },
  {
   "cell_type": "code",
   "execution_count": 3,
   "metadata": {},
   "outputs": [
    {
     "name": "stdout",
     "output_type": "stream",
     "text": [
      "0\n",
      "1\n",
      "2\n",
      "3\n",
      "4\n",
      "5\n",
      "6\n",
      "7\n",
      "8\n",
      "9\n"
     ]
    }
   ],
   "source": [
    "x = range(10)\n",
    "for n in x:\n",
    "    print(n)"
   ]
  },
  {
   "cell_type": "code",
   "execution_count": 7,
   "metadata": {},
   "outputs": [
    {
     "name": "stdout",
     "output_type": "stream",
     "text": [
      "5\n",
      "6\n",
      "7\n",
      "8\n",
      "9\n",
      "10\n",
      "11\n",
      "12\n",
      "13\n",
      "14\n",
      "15\n",
      "16\n",
      "17\n",
      "18\n",
      "19\n",
      "20\n",
      "21\n",
      "22\n",
      "23\n",
      "24\n"
     ]
    }
   ],
   "source": [
    "x = range(5 , 25)\n",
    "for n in x:\n",
    "      print(n)"
   ]
  },
  {
   "cell_type": "code",
   "execution_count": 8,
   "metadata": {},
   "outputs": [
    {
     "name": "stdout",
     "output_type": "stream",
     "text": [
      "5\n",
      "9\n",
      "13\n",
      "17\n",
      "21\n",
      "25\n",
      "29\n",
      "33\n",
      "37\n",
      "41\n",
      "45\n",
      "49\n",
      "53\n",
      "57\n"
     ]
    }
   ],
   "source": [
    "x = range(5, 60 ,4)\n",
    "for n in x:\n",
    "      print(n)"
   ]
  },
  {
   "cell_type": "code",
   "execution_count": 9,
   "metadata": {},
   "outputs": [
    {
     "name": "stdout",
     "output_type": "stream",
     "text": [
      "greater than 25:  255\n"
     ]
    }
   ],
   "source": [
    "i=15\n",
    "j=17\n",
    "k=i+j\n",
    "if k >25 :\n",
    "    print(\"greater than 25: \" ,i*j)\n",
    "    \n",
    "elif k < 25:\n",
    "    print(\"less than 25: \",i/j)\n",
    "    \n",
    "else:\n",
    "    print(\"equal to 25\")\n",
    "    \n"
   ]
  },
  {
   "cell_type": "code",
   "execution_count": 10,
   "metadata": {},
   "outputs": [
    {
     "name": "stdout",
     "output_type": "stream",
     "text": [
      "398\n",
      "9998\n",
      "782\n",
      "98\n",
      "142\n",
      "194\n"
     ]
    }
   ],
   "source": [
    "l = [20,100,25,28,10,12,14,13,17,19]\n",
    "\n",
    "for i in l :\n",
    "    if i %2 ==0 :\n",
    "        print((i**2)-2)\n",
    "    "
   ]
  },
  {
   "cell_type": "code",
   "execution_count": 12,
   "metadata": {},
   "outputs": [
    {
     "name": "stdout",
     "output_type": "stream",
     "text": [
      "19\n",
      "20\n",
      "100\n",
      "25\n",
      "28\n",
      "21\n",
      "34\n",
      "43\n",
      "17\n"
     ]
    }
   ],
   "source": [
    "l = [19,20,100,25,28,14,21,34,43,17]\n",
    "\n",
    "for i in l :\n",
    "    k =i/2\n",
    "    if k >7 :\n",
    "        print(i)\n",
    "    "
   ]
  },
  {
   "cell_type": "code",
   "execution_count": null,
   "metadata": {},
   "outputs": [],
   "source": []
  }
 ],
 "metadata": {
  "kernelspec": {
   "display_name": "Python 3",
   "language": "python",
   "name": "python3"
  },
  "language_info": {
   "codemirror_mode": {
    "name": "ipython",
    "version": 3
   },
   "file_extension": ".py",
   "mimetype": "text/x-python",
   "name": "python",
   "nbconvert_exporter": "python",
   "pygments_lexer": "ipython3",
   "version": "3.7.6"
  }
 },
 "nbformat": 4,
 "nbformat_minor": 4
}
