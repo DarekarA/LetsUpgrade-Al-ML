{
 "cells": [
  {
   "cell_type": "markdown",
   "metadata": {},
   "source": [
    "### Question 1 : \n",
    "- Write a Python program to find the first 20 non-even prime natural numbers."
   ]
  },
  {
   "cell_type": "code",
   "execution_count": 135,
   "metadata": {},
   "outputs": [],
   "source": [
    "prime= list()\n",
    "for i in range(2,100):\n",
    "    flag=0\n",
    "    for j in range(1,i):\n",
    "        if i%j==0:\n",
    "            flag=flag+1\n",
    "            #print(\"\\n\",\"i is: \",i,\"j is: \",j, \"flag is :\",flag)\n",
    "    if flag <=1:\n",
    "        prime.append(i)\n",
    "    if len(prime)>19:\n",
    "        break      "
   ]
  },
  {
   "cell_type": "code",
   "execution_count": 136,
   "metadata": {},
   "outputs": [
    {
     "name": "stdout",
     "output_type": "stream",
     "text": [
      "20\n"
     ]
    },
    {
     "data": {
      "text/plain": [
       "[2, 3, 5, 7, 11, 13, 17, 19, 23, 29, 31, 37, 41, 43, 47, 53, 59, 61, 67, 71]"
      ]
     },
     "execution_count": 136,
     "metadata": {},
     "output_type": "execute_result"
    }
   ],
   "source": [
    "print(len(prime))\n",
    "prime"
   ]
  },
  {
   "cell_type": "markdown",
   "metadata": {},
   "source": [
    "### Question 2 : \n",
    "- Write a Python program to implement 15 functions of string\n"
   ]
  },
  {
   "cell_type": "code",
   "execution_count": 41,
   "metadata": {},
   "outputs": [
    {
     "name": "stdout",
     "output_type": "stream",
     "text": [
      "Hello my name is\n",
      "hello my name is\n",
      "True\n",
      "True\n",
      "False\n",
      "16\n",
      "hello my name is\n",
      "Sarekar\n",
      "['D', 'rek', 'r']\n",
      "hELLO MY NAME IS\n",
      "b'Darekar'\n",
      "Hello my name is\n",
      "DHello my name isaHello my name isrHello my name iseHello my name iskHello my name isaHello my name isr\n",
      "10\n",
      "True\n"
     ]
    }
   ],
   "source": [
    "def stringfun(s1,s2):\n",
    "    print(s1.capitalize())\n",
    "    print(s1.casefold())\n",
    "    print(s2.isalnum())\n",
    "    print(s2.isalpha())\n",
    "    print(s1.isdecimal())\n",
    "    print(len(s1))\n",
    "    print(s1.lower())\n",
    "    print(s2.replace(\"D\",\"S\"))\n",
    "    print(s2.rsplit(\"a\"))\n",
    "    print(s1.swapcase())\n",
    "    print(s2.encode())\n",
    "    print(s1.lstrip())\n",
    "    print(s1.join(s2))\n",
    "    print(s1.rfind(\"a\"))\n",
    "    print(s1.startswith(\"H\"))\n",
    "\n",
    "\n",
    "s1= \"Hello my name is\"\n",
    "s2= \"Darekar\"\n",
    "stringfun(s1,s2)"
   ]
  },
  {
   "cell_type": "markdown",
   "metadata": {},
   "source": [
    "### Question 3: \n",
    "- Write a Python program to check if the given string is a Palindrome or Anagram or None of them. Display the message accordingly to the user. \n"
   ]
  },
  {
   "cell_type": "code",
   "execution_count": 191,
   "metadata": {},
   "outputs": [],
   "source": [
    "def checkPalin(alpha):\n",
    "    # Check Palindrome :\n",
    "    flag=0\n",
    "    for i in range(len(alpha)):\n",
    "    #print(\"\\n a is :\",a[i], \" b is :\",b[-(i+1)])\n",
    "        if alpha[i]==alpha[-(i+1)]:\n",
    "            flag=flag+1\n",
    "    if flag==len(alpha):\n",
    "        print(\" Palindrome\")\n",
    "    else:\n",
    "        print(\"Not Palindrome\")"
   ]
  },
  {
   "cell_type": "code",
   "execution_count": 192,
   "metadata": {},
   "outputs": [
    {
     "name": "stdout",
     "output_type": "stream",
     "text": [
      " Palindrome\n"
     ]
    }
   ],
   "source": [
    "checkPalin(\"abccba\")"
   ]
  },
  {
   "cell_type": "code",
   "execution_count": 184,
   "metadata": {},
   "outputs": [],
   "source": [
    "def checkAnagram(a,b):\n",
    "    a=a.lower()\n",
    "    b=b.lower()\n",
    "    b=b.replace(\" \",\"\")\n",
    "    flaga=0\n",
    "    flagb=0\n",
    "    for i in range(len(a)):\n",
    "        if a[i] in b:\n",
    "            flaga=flaga+1\n",
    "    \n",
    "    for i in range(len(b)):\n",
    "        if b[i] in a:\n",
    "            flagb=flagb+1\n",
    "            \n",
    "    if flaga==len(a) and flagb==len(b):\n",
    "        print(\"Anagram\")\n",
    "    else:\n",
    "        print(\"Not Anagram\")"
   ]
  },
  {
   "cell_type": "code",
   "execution_count": 193,
   "metadata": {},
   "outputs": [
    {
     "name": "stdout",
     "output_type": "stream",
     "text": [
      "Anagram\n"
     ]
    }
   ],
   "source": [
    "checkAnagram(\"Dormitory\",\"Dirty room\")"
   ]
  },
  {
   "cell_type": "code",
   "execution_count": 194,
   "metadata": {},
   "outputs": [
    {
     "name": "stdout",
     "output_type": "stream",
     "text": [
      "Anagram\n"
     ]
    }
   ],
   "source": [
    "checkAnagram(\"Conversation\",\"Voices rant on\")"
   ]
  },
  {
   "cell_type": "markdown",
   "metadata": {},
   "source": [
    "### Question 4: \n",
    "Write a Python's user defined function that removes all the additional characters from the string and converts it finally to lower case using built-in lower(). eg: If the \n",
    "- string is \"Dr. Darshan Ingle @AI-ML Trainer\", then the \n",
    "- output be \"drdarshaningleaimltrainer\n"
   ]
  },
  {
   "cell_type": "code",
   "execution_count": 216,
   "metadata": {},
   "outputs": [],
   "source": [
    "a=\"Dr. Darshan Ingle @AI-ML Trainer\""
   ]
  },
  {
   "cell_type": "code",
   "execution_count": 217,
   "metadata": {},
   "outputs": [],
   "source": [
    "def cleanSTR(a):\n",
    "    a=a.lower()\n",
    "    b=\"\"\n",
    "    for i in range(len(a)):\n",
    "        if a[i].isalpha():\n",
    "            b=b+a[i]\n",
    "    \n",
    "    return b"
   ]
  },
  {
   "cell_type": "code",
   "execution_count": 218,
   "metadata": {},
   "outputs": [
    {
     "data": {
      "text/plain": [
       "'drdarshaningleaimltrainer'"
      ]
     },
     "execution_count": 218,
     "metadata": {},
     "output_type": "execute_result"
    }
   ],
   "source": [
    "cleanSTR(a)"
   ]
  }
 ],
 "metadata": {
  "kernelspec": {
   "display_name": "Python 3",
   "language": "python",
   "name": "python3"
  },
  "language_info": {
   "codemirror_mode": {
    "name": "ipython",
    "version": 3
   },
   "file_extension": ".py",
   "mimetype": "text/x-python",
   "name": "python",
   "nbconvert_exporter": "python",
   "pygments_lexer": "ipython3",
   "version": "3.7.6"
  }
 },
 "nbformat": 4,
 "nbformat_minor": 2
}
